{
 "cells": [
  {
   "cell_type": "code",
   "execution_count": null,
   "metadata": {},
   "outputs": [],
   "source": [
    "import warnings\n",
    "warnings.filterwarnings('ignore')\n",
    "%matplotlib inline\n",
    "import pandas as pd\n",
    "import cat_analysis\n",
    "from obspy import UTCDateTime\n",
    "import matplotlib.pyplot as plt\n",
    "#plt.xkcd"
   ]
  },
  {
   "cell_type": "markdown",
   "metadata": {},
   "source": [
    "##Get Catalog data from USGS"
   ]
  },
  {
   "cell_type": "code",
   "execution_count": null,
   "metadata": {},
   "outputs": [],
   "source": [
    "t1 = UTCDateTime(\"2014-09-14T00:00:00.000\")\n",
    "t2 = UTCDateTime(\"2014-09-21T00:00:00.000\")\n",
    "\n",
    "cat = cat_analysis.get_cat(starttime = t1, endtime = t2, minmagnitude=-1, includeallorigins=True)\n",
    "print cat\n"
   ]
  },
  {
   "cell_type": "markdown",
   "metadata": {},
   "source": [
    "####convert catalog data into list"
   ]
  },
  {
   "cell_type": "code",
   "execution_count": null,
   "metadata": {},
   "outputs": [],
   "source": [
    "#Here you can choose 'Moment_tensor' or 'Focal'\n",
    "earthquakes, mt, event_id, quarry_blast = cat_analysis.cat2list(cat, mt_type = 'Focal')"
   ]
  },
  {
   "cell_type": "markdown",
   "metadata": {},
   "source": [
    "##Plot seismicity"
   ]
  },
  {
   "cell_type": "code",
   "execution_count": null,
   "metadata": {},
   "outputs": [],
   "source": [
    "#if the earthquake number larger than 100, then we won't label the magnitudes\n",
    "cat_analysis.plot_event(earthquakes, resolution = 'l', pretty = False, color = 'date', figsize = (14,12), \n",
    "                        location = 'World', M_above = 0.0, label = 'magnitude')"
   ]
  },
  {
   "cell_type": "markdown",
   "metadata": {},
   "source": [
    "####Plot the quarry blast in US"
   ]
  },
  {
   "cell_type": "code",
   "execution_count": null,
   "metadata": {},
   "outputs": [],
   "source": [
    "cat_analysis.plot_event(quarry_blast, resolution = 'l', pretty = False, color = 'date', figsize = (14,12), \n",
    "                        label = 'magnitude', location = 'US')"
   ]
  },
  {
   "cell_type": "markdown",
   "metadata": {},
   "source": [
    "##plot the scatter plot"
   ]
  },
  {
   "cell_type": "code",
   "execution_count": null,
   "metadata": {},
   "outputs": [],
   "source": [
    "df = cat_analysis.eq2df(earthquakes)\n",
    "pd.scatter_matrix(df[['evla', 'evlo', 'evdp', 'mag']], figsize = (10,10), alpha=0.7, diagonal='hist')"
   ]
  },
  {
   "cell_type": "code",
   "execution_count": null,
   "metadata": {},
   "outputs": [],
   "source": [
    "plt.show()"
   ]
  },
  {
   "cell_type": "markdown",
   "metadata": {},
   "source": [
    "##Plot seismicity rate"
   ]
  },
  {
   "cell_type": "code",
   "execution_count": null,
   "metadata": {},
   "outputs": [],
   "source": [
    "cat_analysis.plot_seimicity_rate(earthquakes, time = 'Day')"
   ]
  },
  {
   "cell_type": "markdown",
   "metadata": {},
   "source": [
    "##Plot cumulative number of earthquakes"
   ]
  },
  {
   "cell_type": "code",
   "execution_count": null,
   "metadata": {},
   "outputs": [],
   "source": [
    "cat_analysis.plot_cum(earthquakes, freq = '1T')"
   ]
  },
  {
   "cell_type": "markdown",
   "metadata": {},
   "source": [
    "##Plot MT or Focal Mechanism"
   ]
  },
  {
   "cell_type": "code",
   "execution_count": null,
   "metadata": {},
   "outputs": [],
   "source": [
    "cat_analysis.plot_mt(earthquakes, mt, event_id, radius=25, dist_bt=500, mt_width=3, show_above_M = True, M_above = 5.5,\n",
    "                     figsize = (18,16), show_eq = False, angle_step=30, legend_loc=3, pretty = False)"
   ]
  },
  {
   "cell_type": "markdown",
   "metadata": {},
   "source": [
    "##Get historical MT"
   ]
  },
  {
   "cell_type": "code",
   "execution_count": null,
   "metadata": {},
   "outputs": [],
   "source": [
    "t1 = UTCDateTime(\"1979-01-01\")\n",
    "t2 = UTCDateTime(\"2014-10-18\")\n",
    "\n",
    "psmeca = cat_analysis.get_hist_mt(t1, t2, evla = 12.576, evlo= -88.046, step = 5, lmw = 9)\n",
    "cat_analysis.plot_hist_mt(psmeca, mt_size = 0.4, pretty = True, resolution='l')"
   ]
  },
  {
   "cell_type": "code",
   "execution_count": null,
   "metadata": {},
   "outputs": [],
   "source": []
  }
 ],
 "metadata": {
  "kernelspec": {
   "display_name": "Python 3",
   "language": "python",
   "name": "python3"
  },
  "language_info": {
   "codemirror_mode": {
    "name": "ipython",
    "version": 3
   },
   "file_extension": ".py",
   "mimetype": "text/x-python",
   "name": "python",
   "nbconvert_exporter": "python",
   "pygments_lexer": "ipython3",
   "version": "3.7.3"
  }
 },
 "nbformat": 4,
 "nbformat_minor": 1
}
