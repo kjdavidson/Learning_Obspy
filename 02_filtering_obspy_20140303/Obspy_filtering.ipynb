{
 "cells": [
  {
   "cell_type": "markdown",
   "metadata": {},
   "source": [
    "## Read in data from IRIS and preview the data"
   ]
  },
  {
   "cell_type": "code",
   "execution_count": null,
   "metadata": {},
   "outputs": [],
   "source": [
    "%pylab inline\n",
    "#let's ignore all the warnings\n",
    "import warnings\n",
    "warnings.filterwarnings('ignore')\n",
    "\n",
    "from obspy.fdsn import Client\n",
    "from obspy import UTCDateTime\n",
    "from matplotlib.dates import date2num\n",
    "import scipy\n",
    "from obspy import signal\n"
   ]
  },
  {
   "cell_type": "code",
   "execution_count": null,
   "metadata": {},
   "outputs": [],
   "source": [
    "signal??"
   ]
  },
  {
   "cell_type": "code",
   "execution_count": null,
   "metadata": {},
   "outputs": [],
   "source": [
    "t1 = UTCDateTime(\"2010-02-27T06:40:00.000\")\n",
    "t2 = UTCDateTime(\"2010-02-27T08:30:00.000\")\n",
    "\n",
    "client = Client(\"IRIS\")\n",
    "\n",
    "#st_raw = client.get_waveforms(\"IU\", \"ANMO\", \"00\", \"BHZ\", t1, t2)\n",
    "#cat = client.get_events(starttime=t1, endtime=t2, minmagnitude=3)\n",
    "\n",
    "#get the waveform and station infor from IRIS\n",
    "st_raw = client.get_waveforms(\"IU\", \"ANMO\", \"00\", \"BH?\", t1, t2)\n",
    "cat = client.get_events(starttime=t1, endtime=t2, minmagnitude=3)\n",
    "# The FDSN webservices return StationXML metadata.\n",
    "inv = client.get_stations(starttime=t1, endtime=t2, network=\"IU\",\n",
    "      station=\"ANMO\", location=\"00\", channel=\"BH?\", level=\"response\")"
   ]
  },
  {
   "cell_type": "code",
   "execution_count": null,
   "metadata": {},
   "outputs": [],
   "source": [
    "st_raw.plot()"
   ]
  },
  {
   "cell_type": "code",
   "execution_count": null,
   "metadata": {},
   "outputs": [],
   "source": [
    "print inv.get_response?"
   ]
  },
  {
   "cell_type": "code",
   "execution_count": null,
   "metadata": {},
   "outputs": [],
   "source": []
  },
  {
   "cell_type": "code",
   "execution_count": null,
   "metadata": {},
   "outputs": [],
   "source": [
    "# Instrument correction directly from StationXML without the need for temporary\n",
    "# files.\n",
    "st_raw.attach_response(inv)\n",
    "st_raw.remove_response(output=\"VEL\")"
   ]
  },
  {
   "cell_type": "code",
   "execution_count": null,
   "metadata": {},
   "outputs": [],
   "source": [
    "st_raw.plot()\n",
    "ttt = st_raw[0]\n",
    "ttt.stats"
   ]
  },
  {
   "cell_type": "code",
   "execution_count": null,
   "metadata": {},
   "outputs": [],
   "source": [
    "#plot the single waveform in a standard way\n",
    "st_raw[0].stats['processing']"
   ]
  },
  {
   "cell_type": "code",
   "execution_count": null,
   "metadata": {},
   "outputs": [],
   "source": [
    "#plot the single waveform as a day plot\n",
    "st_raw[0].plot(type='dayplot')"
   ]
  },
  {
   "cell_type": "code",
   "execution_count": null,
   "metadata": {},
   "outputs": [],
   "source": [
    "#plot the single waveform as a day plot\n",
    "st_raw[0].plot??"
   ]
  },
  {
   "cell_type": "code",
   "execution_count": null,
   "metadata": {},
   "outputs": [],
   "source": [
    "st_raw[0].plot"
   ]
  },
  {
   "cell_type": "markdown",
   "metadata": {},
   "source": [
    "##Remove mean and trend and filter the data\n",
    "- Note here that the remove mean, remove trend are applied directly on the data, if you want keep the raw data untouched, please copy it first"
   ]
  },
  {
   "cell_type": "code",
   "execution_count": null,
   "metadata": {},
   "outputs": [],
   "source": [
    "#get a copy of the waveforms, so that we can keep hte raw waveform untouched\n",
    "st = st_raw.copy()\n",
    "\n",
    "#remove the mean and the trend\n",
    "st.detrend('demean').detrend('linear')\n",
    "\n",
    "#get each component \n",
    "tr_BH1 = st[0]\n",
    "tr_BH2 = st[1]\n",
    "tr_BHZ = st[2]"
   ]
  },
  {
   "cell_type": "code",
   "execution_count": null,
   "metadata": {},
   "outputs": [],
   "source": [
    "#use bandpass filter to filter the signal, but one with zerophase, the other without zerophase\n",
    "#param zerophase: If True, apply filter once forwards and once backwards.\n",
    "#This results in twice the number of corners but zero phase shift in the resulting filtered trace.\n",
    "tr_BHZ_2 = tr_BHZ.copy()\n",
    "tr_BHZ.filter('bandpass', freqmin=0.001, freqmax = 0.01, corners=2, zerophase=True)\n",
    "tr_BHZ_2.filter('bandpass', freqmin=0.001, freqmax = 0.01, corners=2, zerophase=False)\n",
    "tr_BHZ.plot()\n",
    "tr_BHZ_2.plot()"
   ]
  },
  {
   "cell_type": "code",
   "execution_count": null,
   "metadata": {},
   "outputs": [],
   "source": [
    "#plot the above two figures in one plot, like the p2 conmmand in sac\n",
    "from matplotlib.dates import date2num\n",
    "from matplotlib.dates import DateFormatter\n",
    "\n",
    "#get the time stamp of the trace\n",
    "start = date2num(tr_BHZ.stats.starttime)\n",
    "end = date2num(tr_BHZ.stats.endtime)\n",
    "times = np.linspace(start, end, tr_BHZ.stats.npts)\n",
    "\n",
    "\n",
    "fig = plt.figure()\n",
    "ax = fig.add_subplot(1, 1, 1)\n",
    "ax.plot_date(times, tr_BHZ.data, \"k-\", label = 'with zerophase')\n",
    "ax.plot_date(times, tr_BHZ_2.data, \"r-\", label = 'without zerophase')\n",
    "ax.legend(loc=1)\n",
    "\n",
    "#format the x axis as time\n",
    "timeFmt = DateFormatter('%H:%M %p')\n",
    "ax.xaxis.set_major_formatter(timeFmt)\n",
    "ax.xaxis.set_major_locator(plt.MaxNLocator(5))\n",
    "plt.xlabel('Time')\n",
    "plt.ylabel('Velocity')"
   ]
  },
  {
   "cell_type": "markdown",
   "metadata": {},
   "source": [
    "##Characteristics of the filter\n",
    "- Use an **`impulse signal`** to see the response of the filter"
   ]
  },
  {
   "cell_type": "code",
   "execution_count": null,
   "metadata": {},
   "outputs": [],
   "source": [
    "def plotSpectrum(y,Fs,label):\n",
    "    \"\"\"\n",
    "    Function to plot the Single-Sided Amplitude Spectrum of y(t)\n",
    "    \"\"\"\n",
    "    n = len(y) # length of the signal\n",
    "    k = arange(n)\n",
    "    T = n/Fs\n",
    "    frq = k/T # two sides frequency range\n",
    "    frq = frq[range(n/2)] # one side frequency range\n",
    "    \n",
    "    Y = scipy.fft(y)/n # fft computing and normalization\n",
    "    Y = Y[range(n/2)]\n",
    "     \n",
    "    plt.plot(frq,abs(Y),'r', label = label) # plotting the spectrum\n",
    "    plt.xlabel('Freq (Hz)')\n",
    "    plt.ylabel('|Y(freq)|')\n",
    "    plt.legend()\n",
    "    "
   ]
  },
  {
   "cell_type": "markdown",
   "metadata": {},
   "source": [
    "- ###Different corners\n",
    "    - We will use different corners of the filter and apply them on the impulse signal\n",
    "    - Also try to change the zerophase parameter and see the difference"
   ]
  },
  {
   "cell_type": "code",
   "execution_count": null,
   "metadata": {},
   "outputs": [],
   "source": [
    "#define the impulse signal\n",
    "impulse = repeat(0.,50); impulse[25] =1.\n",
    "\n",
    "Fs = 50.0;  # sampling rate\n",
    "Ts = 1.0/Fs; # sampling interval\n",
    "t = arange(0,1,Ts) # time vector\n",
    "\n",
    "zerophase = False\n",
    "\n",
    "for i in range(4):\n",
    "    #filter the impulse signal from 1 to 10 Hz with different corners\n",
    "    filt = signal.filter.bandpass(data=impulse, df = 50, freqmin=1, freqmax = 10, corners=i+1, zerophase=zerophase )\n",
    "    \n",
    "    if zerophase:\n",
    "        label = 'n ' + str(i+1) + ' P 2'\n",
    "    else:\n",
    "        label = 'n ' + str(i+1) + ' P 1'\n",
    "    \n",
    "    #plot the time domain and frequency domain signal\n",
    "    plt.figure(figsize=(16,2.5))\n",
    "    plt.subplot(1,2,1)\n",
    "    plt.plot(t,filt, label = label)\n",
    "    plt.legend()\n",
    "    plt.xlabel('Time')\n",
    "    plt.ylabel('Amplitude')\n",
    "    plt.subplot(1,2,2)\n",
    "    plotSpectrum(filt,Fs, label)\n",
    "    plt.show()\n",
    "    "
   ]
  },
  {
   "cell_type": "markdown",
   "metadata": {},
   "source": [
    "##Different filter band"
   ]
  },
  {
   "cell_type": "markdown",
   "metadata": {},
   "source": [
    "- ###Quick view\n",
    "    - this is a quick plot of the result from different filter bands"
   ]
  },
  {
   "cell_type": "code",
   "execution_count": null,
   "metadata": {},
   "outputs": [],
   "source": [
    "#specify your frequency band here\n",
    "fqb = [(0.001, 0.005), (0.005, 0.01),(0.01, 0.05), (0.05, 0.1)]\n",
    "\n",
    "for fq in fqb:\n",
    "    print fq\n",
    "    freqmin = fq[0]\n",
    "    freqmax = fq[1]\n",
    "    tr_filt = st[2].copy()\n",
    "    tr_filt.filter('bandpass', freqmin= freqmin, freqmax = freqmax, corners=2, zerophase=True)\n",
    "    fig = plt.figure(figsize = (8,2.5))\n",
    "    tr_filt.plot(color = 'red', number_of_ticks = 5, tick_format = '%H:%M %p', fig=fig)\n",
    "    label = 'freq. band: ' + str(freqmin) + 'Hz ~ ' + str(freqmax) + 'Hz'\n",
    "    plt.annotate(label, xy=(0.67, 0.72),xycoords = 'figure fraction')\n",
    "    "
   ]
  },
  {
   "cell_type": "markdown",
   "metadata": {},
   "source": [
    "- ### Filter band with record section\n",
    "    - Record section plot of the waveforms with different filter bands"
   ]
  },
  {
   "cell_type": "code",
   "execution_count": null,
   "metadata": {},
   "outputs": [],
   "source": [
    "from obspy.core.stream import read, Stream\n",
    "from obspy.core.util import gps2DistAzimuth\n",
    "\n",
    "#get data from obspy example FTP\n",
    "host = 'http://examples.obspy.org/'\n",
    "# Files (fmt: SAC)\n",
    "files = ['TOK.2011.328.21.10.54.OKR01.HHN.inv',\n",
    "'TOK.2011.328.21.10.54.OKR02.HHN.inv', 'TOK.2011.328.21.10.54.OKR03.HHN.inv',\n",
    "'TOK.2011.328.21.10.54.OKR04.HHN.inv', 'TOK.2011.328.21.10.54.OKR05.HHN.inv',\n",
    "'TOK.2011.328.21.10.54.OKR06.HHN.inv', 'TOK.2011.328.21.10.54.OKR07.HHN.inv',\n",
    "'TOK.2011.328.21.10.54.OKR08.HHN.inv', 'TOK.2011.328.21.10.54.OKR09.HHN.inv',\n",
    "'TOK.2011.328.21.10.54.OKR10.HHN.inv']\n",
    "# Earthquakes' epicenter\n",
    "eq_lat = 35.565\n",
    "eq_lon = -96.792\n",
    "\n",
    "# Reading the waveforms\n",
    "st_tok = Stream()\n",
    "for waveform in files:\n",
    "\tst_tok += read(host + waveform)\n",
    "\n",
    "# Calculating distance from SAC headers lat/lon\n",
    "# (trace.stats.sac.stla and trace.stats.sac.stlo)\n",
    "for tr in st_tok:\n",
    "\ttr.stats.distance = gps2DistAzimuth(tr.stats.sac.stla,\n",
    "\t\t\t\t\t\t\t\t\ttr.stats.sac.stlo, eq_lat, eq_lon)[0]\n",
    "\t# Setting Network name for plot title\n",
    "\ttr.stats.network = 'TOK'\n"
   ]
  },
  {
   "cell_type": "code",
   "execution_count": null,
   "metadata": {},
   "outputs": [],
   "source": [
    "#now define the frequency bands\n",
    "fqb = [(0.5, 1), (1, 5), (5, 10), (10, 15) ]\n",
    "\n",
    "#plot the record section\n",
    "for fq in fqb:\n",
    "    freqmin = fq[0]\n",
    "    freqmax = fq[1]\n",
    "    st_tok_filt = st_tok.copy()\n",
    "    #print st_tok[0].stats\n",
    "    st_tok_filt.filter('bandpass', freqmin= freqmin, freqmax = freqmax)\n",
    "    fig = plt.figure(figsize = (8,6))\n",
    "    st_tok_filt.plot(type='section', plot_dx=20e3, recordlength=100,time_down=True, linewidth=1, grid_linewidth=.25, fig=fig, color = 'red')\n",
    "    label = 'freq. band: ' + str(freqmin) + 'Hz ~ ' + str(freqmax) + 'Hz'\n",
    "    plt.annotate(label, xy=(0.67, 0.86),xycoords = 'figure fraction')\n"
   ]
  },
  {
   "cell_type": "markdown",
   "metadata": {},
   "source": [
    "## Plot the Spectrogram"
   ]
  },
  {
   "cell_type": "code",
   "execution_count": null,
   "metadata": {},
   "outputs": [],
   "source": [
    "#plot the spectrogram of the first trace\n",
    "st_tok[0].spectrogram()\n",
    "st_tok[0].plot()"
   ]
  },
  {
   "cell_type": "code",
   "execution_count": null,
   "metadata": {},
   "outputs": [],
   "source": [
    "# let's trim the trace and re-plot it\n",
    "t = tr.stats.starttime\n",
    "st_tok_trim = st_tok[0].copy().trim(t , t + 50)\n",
    "st_tok_trim.plot()\n",
    "st_tok_trim.spectrogram(per_lap=0.9, wlen=None, log=True,\n",
    "                outfile=None, fmt=None, axes=None, dbscale=False,\n",
    "                mult=8.0, cmap=None, zorder=None, title=None, show=True,\n",
    "                sphinx=False, clip=[0.0, 1.0])"
   ]
  },
  {
   "cell_type": "code",
   "execution_count": null,
   "metadata": {},
   "outputs": [],
   "source": []
  }
 ],
 "metadata": {
  "kernelspec": {
   "display_name": "Python 3",
   "language": "python",
   "name": "python3"
  },
  "language_info": {
   "codemirror_mode": {
    "name": "ipython",
    "version": 3
   },
   "file_extension": ".py",
   "mimetype": "text/x-python",
   "name": "python",
   "nbconvert_exporter": "python",
   "pygments_lexer": "ipython3",
   "version": "3.7.3"
  }
 },
 "nbformat": 4,
 "nbformat_minor": 1
}
