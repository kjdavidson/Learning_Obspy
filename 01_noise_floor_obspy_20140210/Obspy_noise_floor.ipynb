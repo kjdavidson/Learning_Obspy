{
 "cells": [
  {
   "cell_type": "markdown",
   "metadata": {},
   "source": [
    "# Using Obspy plot the noise floor"
   ]
  },
  {
   "cell_type": "markdown",
   "metadata": {},
   "source": [
    "To use obspy generate teh noise floor test is relatively easy, only 3 steps:\n",
    "\n",
    "(1) Get the waveform from NCEDC\n",
    "\n",
    "(2) Get the pole and zero information for this station\n",
    "\n",
    "(3) Get the noise floor\n",
    "\n",
    "The method used here is:\n",
    "\n",
    "McNamara, D. E. and Buland, R. P. (2004),\n",
    "Ambient Noise Levels in the Continental United States,\n",
    "Bulletin of the Seismological Society of America, 94 (4), 1517-1527"
   ]
  },
  {
   "cell_type": "markdown",
   "metadata": {},
   "source": [
    "### Let's first import useful packages, and also the parse_ncedc.py and build_url.py in the current folder"
   ]
  },
  {
   "cell_type": "code",
   "execution_count": null,
   "metadata": {},
   "outputs": [],
   "source": [
    "#%pylab inline\n",
    "from obspy.clients.fdsn import Client\n",
    "from obspy import UTCDateTime\n",
    "import parse_ncedc as pn\n",
    "import build_url as bu\n",
    "from obspy.signal import PPSD"
   ]
  },
  {
   "cell_type": "code",
   "execution_count": null,
   "metadata": {},
   "outputs": [],
   "source": [
    "Client??"
   ]
  },
  {
   "cell_type": "markdown",
   "metadata": {},
   "source": [
    "### (1) Get the waveform"
   ]
  },
  {
   "cell_type": "code",
   "execution_count": null,
   "metadata": {},
   "outputs": [],
   "source": [
    "#create an Client object\n",
    "client = Client('NCEDC')\n",
    "\n",
    "#specify the start and end time and other station info\n",
    "t1 = UTCDateTime(\"2014-02-27T18:52:00.000\")\n",
    "t2 = UTCDateTime(\"2014-02-27T18:57:00.000\")\n",
    "network = 'PG'\n",
    "station = 'OBS3'\n",
    "location = '*'\n",
    "channel = 'HH1'\n",
    "\n",
    "#get the waveform as a stream object\n",
    "st = client.get_waveforms(network, station, location, channel, t1,t2)\n",
    "\n",
    "#plot the waveform\n",
    "st.plot()\n",
    "\n",
    "#get the first trace of the waveform from the stream\n",
    "tr = st[0]"
   ]
  },
  {
   "cell_type": "code",
   "execution_count": null,
   "metadata": {},
   "outputs": [],
   "source": [
    "t1 = UTCDateTime(\"2014-02-12T09:25:00.000\")\n",
    "t2 = UTCDateTime(\"2014-02-12T12:30:00.000\")\n",
    "tr.plot(starttime = t1, endtime = t2)"
   ]
  },
  {
   "cell_type": "markdown",
   "metadata": {},
   "source": [
    "### (2) Get the pole and zero information of the station"
   ]
  },
  {
   "cell_type": "code",
   "execution_count": null,
   "metadata": {},
   "outputs": [],
   "source": [
    "#get the dataless seed file from NCEDC, I also printed out the url you need to find this file\n",
    "seed = bu.get_dataless_seed(network, station, location, channel, t1,t2)\n",
    "\n",
    "#parse the dataless seed to get the pole and zero info\n",
    "parser = pn.Parser_ncedc(seed)\n",
    "paz = parser.getPAZ(tr.id)\n"
   ]
  },
  {
   "cell_type": "code",
   "execution_count": null,
   "metadata": {},
   "outputs": [],
   "source": [
    "print paz"
   ]
  },
  {
   "cell_type": "markdown",
   "metadata": {},
   "source": [
    "### (3) Calculate the noise floor"
   ]
  },
  {
   "cell_type": "code",
   "execution_count": null,
   "metadata": {},
   "outputs": [],
   "source": [
    "#Initialize a new PPSD instance. The ppsd object will then make sure that only appropriate \n",
    "#data go into the probabilistic psd statistics. Then get the noise floor\n",
    "ppsd = PPSD(tr.stats, paz, db_bins=(-200, 10, 1.))\n",
    "ppsd.add(st)\n",
    "ppsd.plot()"
   ]
  },
  {
   "cell_type": "code",
   "execution_count": null,
   "metadata": {},
   "outputs": [],
   "source": [
    "ppsd.hist_stack[56]"
   ]
  },
  {
   "cell_type": "code",
   "execution_count": null,
   "metadata": {},
   "outputs": [],
   "source": [
    "#the following commend will give you all the data used to plot the noise floor\n",
    "ppsd.hist_stack\n",
    "\n",
    "#it has 112 array corresponding to 112 center frequency, in each of the array, it has 150 elements corresponding to the amplitude bin\n",
    "len(ppsd.hist_stack[0])\n"
   ]
  },
  {
   "cell_type": "markdown",
   "metadata": {},
   "source": [
    "### A couple of useful things"
   ]
  },
  {
   "cell_type": "code",
   "execution_count": null,
   "metadata": {},
   "outputs": [],
   "source": [
    "ppsd"
   ]
  },
  {
   "cell_type": "code",
   "execution_count": null,
   "metadata": {},
   "outputs": [],
   "source": [
    "from obspy.xseed import Parser"
   ]
  },
  {
   "cell_type": "code",
   "execution_count": null,
   "metadata": {},
   "outputs": [],
   "source": [
    "ppsd??"
   ]
  },
  {
   "cell_type": "code",
   "execution_count": null,
   "metadata": {},
   "outputs": [],
   "source": [
    "%load ./parse_ncedc.py"
   ]
  },
  {
   "cell_type": "code",
   "execution_count": null,
   "metadata": {},
   "outputs": [],
   "source": [
    "%%bash?"
   ]
  },
  {
   "cell_type": "code",
   "execution_count": null,
   "metadata": {},
   "outputs": [],
   "source": [
    "%lsmagic"
   ]
  },
  {
   "cell_type": "code",
   "execution_count": null,
   "metadata": {},
   "outputs": [],
   "source": [
    "!ls"
   ]
  },
  {
   "cell_type": "code",
   "execution_count": null,
   "metadata": {},
   "outputs": [],
   "source": [
    "!pwd"
   ]
  },
  {
   "cell_type": "markdown",
   "metadata": {},
   "source": [
    "## Very nice gallery of useful ipython notebooks"
   ]
  },
  {
   "cell_type": "markdown",
   "metadata": {},
   "source": [
    "https://github.com/ipython/ipython/wiki/A-gallery-of-interesting-IPython-Notebooks"
   ]
  },
  {
   "cell_type": "code",
   "execution_count": null,
   "metadata": {},
   "outputs": [],
   "source": [
    "%pwd"
   ]
  },
  {
   "cell_type": "code",
   "execution_count": null,
   "metadata": {},
   "outputs": [],
   "source": []
  }
 ],
 "metadata": {
  "kernelspec": {
   "display_name": "Python 3",
   "language": "python",
   "name": "python3"
  },
  "language_info": {
   "codemirror_mode": {
    "name": "ipython",
    "version": 3
   },
   "file_extension": ".py",
   "mimetype": "text/x-python",
   "name": "python",
   "nbconvert_exporter": "python",
   "pygments_lexer": "ipython3",
   "version": "3.7.3"
  }
 },
 "nbformat": 4,
 "nbformat_minor": 1
}
